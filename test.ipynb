{
 "cells": [
  {
   "cell_type": "code",
   "execution_count": 3,
   "metadata": {},
   "outputs": [],
   "source": [
    "import dash_bootstrap_components as dbc\n",
    "import dash_html_components as html\n",
    "from dash.dependencies import Input, Output, State\n",
    "import jupyter_dash\n",
    "app = jupyter_dash.JupyterDash(__name__, external_stylesheets=[dbc.themes.BOOTSTRAP])\n",
    "app.layout = html.Div(\n",
    "    [\n",
    "        dbc.Button(\n",
    "            \"Toggle alert with fade\", id=\"alert-toggle-fade\", className=\"mr-1\"\n",
    "        ),\n",
    "        dbc.Button(\"Toggle alert without fade\", id=\"alert-toggle-no-fade\"),\n",
    "        html.Hr(),\n",
    "        dbc.Alert(\n",
    "            \"Hello! I am an alert\",\n",
    "            id=\"alert-fade\",\n",
    "            dismissable=True,\n",
    "            is_open=True,\n",
    "        ),\n",
    "        dbc.Alert(\n",
    "            \"Hello! I am an alert that doesn't fade in or out\",\n",
    "            id=\"alert-no-fade\",\n",
    "            dismissable=True,\n",
    "            fade=False,\n",
    "            is_open=True,\n",
    "        ),\n",
    "    ]\n",
    ")\n",
    "\n",
    "\n",
    "@app.callback(\n",
    "    Output(\"alert-fade\", \"is_open\"),\n",
    "    [Input(\"alert-toggle-fade\", \"n_clicks\")]\n",
    ")\n",
    "def toggle_alert(n):\n",
    "    \n",
    "    if n:\n",
    "        return not is_open\n",
    "    return is_open\n",
    "\n",
    "\n",
    "@app.callback(\n",
    "    Output(\"alert-no-fade\", \"is_open\"),\n",
    "    [Input(\"alert-toggle-no-fade\", \"n_clicks\")],\n",
    "    [Input(\"alert-no-fade\", \"is_open\")],\n",
    ")\n",
    "def toggle_alert_no_fade(n, is_open):\n",
    "    if n:\n",
    "        return not is_open\n",
    "    return is_open"
   ]
  },
  {
   "cell_type": "code",
   "execution_count": 4,
   "metadata": {},
   "outputs": [
    {
     "name": "stdout",
     "output_type": "stream",
     "text": [
      "Dash app running on http://127.0.0.1:8050/\n"
     ]
    }
   ],
   "source": [
    "app.run_server(debug=True)"
   ]
  },
  {
   "cell_type": "code",
   "execution_count": null,
   "metadata": {},
   "outputs": [],
   "source": []
  }
 ],
 "metadata": {
  "kernelspec": {
   "display_name": "Python 3",
   "language": "python",
   "name": "python3"
  },
  "language_info": {
   "codemirror_mode": {
    "name": "ipython",
    "version": 3
   },
   "file_extension": ".py",
   "mimetype": "text/x-python",
   "name": "python",
   "nbconvert_exporter": "python",
   "pygments_lexer": "ipython3",
   "version": "3.8.3"
  }
 },
 "nbformat": 4,
 "nbformat_minor": 4
}
