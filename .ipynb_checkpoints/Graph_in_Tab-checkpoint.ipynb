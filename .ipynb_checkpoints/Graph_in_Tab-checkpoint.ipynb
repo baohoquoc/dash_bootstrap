{
 "cells": [
  {
   "cell_type": "code",
   "execution_count": 1,
   "metadata": {},
   "outputs": [],
   "source": [
    "\"\"\"\n",
    "A simple app demonstrating how to dynamically render tab content containing\n",
    "dcc.Graph components to ensure graphs get sized correctly. We also show how\n",
    "dcc.Store can be used to cache the results of an expensive graph generation\n",
    "process so that switching tabs is fast.\n",
    "\"\"\"\n",
    "import time\n",
    "\n",
    "import dash\n",
    "import dash_bootstrap_components as dbc\n",
    "import dash_core_components as dcc\n",
    "import dash_html_components as html\n",
    "import numpy as np\n",
    "import plotly.graph_objs as go\n",
    "from dash.dependencies import Input, Output"
   ]
  },
  {
   "cell_type": "code",
   "execution_count": 2,
   "metadata": {},
   "outputs": [],
   "source": [
    "app = dash.Dash(external_stylesheets=[dbc.themes.BOOTSTRAP])"
   ]
  },
  {
   "cell_type": "code",
   "execution_count": 3,
   "metadata": {},
   "outputs": [],
   "source": [
    "app.layout = dbc.Container(\n",
    "    [\n",
    "        dcc.Store(id=\"store\"),\n",
    "        html.H1(\"Dynamically rendered tab content\"),\n",
    "        html.Hr(),\n",
    "        dbc.Button(\n",
    "            \"Regenerate graphs\",\n",
    "            color=\"primary\",\n",
    "            block=True,\n",
    "            id=\"button\",\n",
    "            className=\"mb-3\",\n",
    "        ),\n",
    "        dbc.Tabs(\n",
    "            [\n",
    "                dbc.Tab(label=\"Scatter\", tab_id=\"scatter\"),\n",
    "                dbc.Tab(label=\"Histograms\", tab_id=\"histogram\"),\n",
    "            ],\n",
    "            id=\"tabs\",\n",
    "            active_tab=\"scatter\",\n",
    "        ),\n",
    "        html.Div(id=\"tab-content\", className=\"p-4\"),\n",
    "    ]\n",
    ")\n",
    "\n",
    "\n",
    "@app.callback(\n",
    "    Output(\"tab-content\", \"children\"),\n",
    "    [Input(\"tabs\", \"active_tab\"), Input(\"store\", \"data\")],\n",
    ")\n",
    "def render_tab_content(active_tab, data):\n",
    "    \"\"\"\n",
    "    This callback takes the 'active_tab' property as input, as well as the\n",
    "    stored graphs, and renders the tab content depending on what the value of\n",
    "    'active_tab' is.\n",
    "    \"\"\"\n",
    "    if active_tab and data is not None:\n",
    "        if active_tab == \"scatter\":\n",
    "            return dcc.Graph(figure=data[\"scatter\"])\n",
    "        elif active_tab == \"histogram\":\n",
    "            return dbc.Row(\n",
    "                [\n",
    "                    dbc.Col(dcc.Graph(figure=data[\"hist_1\"]), width=6),\n",
    "                    dbc.Col(dcc.Graph(figure=data[\"hist_2\"]), width=6),\n",
    "                ]\n",
    "            )\n",
    "    return \"No tab selected\"\n",
    "\n",
    "\n",
    "@app.callback(Output(\"store\", \"data\"), [Input(\"button\", \"n_clicks\")])\n",
    "def generate_graphs(n):\n",
    "    \"\"\"\n",
    "    This callback generates three simple graphs from random data.\n",
    "    \"\"\"\n",
    "    if not n:\n",
    "        # generate empty graphs when app loads\n",
    "        return {k: go.Figure(data=[]) for k in [\"scatter\", \"hist_1\", \"hist_2\"]}\n",
    "\n",
    "    # simulate expensive graph generation process\n",
    "    time.sleep(2)\n",
    "\n",
    "    # generate 100 multivariate normal samples\n",
    "    data = np.random.multivariate_normal([0, 0], [[1, 0.5], [0.5, 1]], 100)\n",
    "\n",
    "    scatter = go.Figure(\n",
    "        data=[go.Scatter(x=data[:, 0], y=data[:, 1], mode=\"markers\")]\n",
    "    )\n",
    "    hist_1 = go.Figure(data=[go.Histogram(x=data[:, 0])])\n",
    "    hist_2 = go.Figure(data=[go.Histogram(x=data[:, 1])])\n",
    "\n",
    "    # save figures in a dictionary for sending to the dcc.Store\n",
    "    return {\"scatter\": scatter, \"hist_1\": hist_1, \"hist_2\": hist_2}\n"
   ]
  },
  {
   "cell_type": "code",
   "execution_count": null,
   "metadata": {},
   "outputs": [
    {
     "name": "stdout",
     "output_type": "stream",
     "text": [
      "Dash is running on http://127.0.0.1:8050/\n",
      "\n",
      " * Serving Flask app \"__main__\" (lazy loading)\n",
      " * Environment: production\n",
      "   WARNING: This is a development server. Do not use it in a production deployment.\n",
      "   Use a production WSGI server instead.\n",
      " * Debug mode: off\n"
     ]
    },
    {
     "name": "stderr",
     "output_type": "stream",
     "text": [
      " * Running on http://127.0.0.1:8050/ (Press CTRL+C to quit)\n",
      "127.0.0.1 - - [28/Sep/2020 14:08:41] \"\u001b[37mGET / HTTP/1.1\u001b[0m\" 200 -\n",
      "127.0.0.1 - - [28/Sep/2020 14:08:41] \"\u001b[37mGET /_dash-component-suites/dash_renderer/react@16.v1_8_0m1600873529.13.0.min.js HTTP/1.1\u001b[0m\" 200 -\n",
      "127.0.0.1 - - [28/Sep/2020 14:08:41] \"\u001b[37mGET /_dash-component-suites/dash_renderer/prop-types@15.v1_8_0m1600873529.7.2.min.js HTTP/1.1\u001b[0m\" 200 -\n",
      "127.0.0.1 - - [28/Sep/2020 14:08:41] \"\u001b[37mGET /_dash-component-suites/dash_renderer/react-dom@16.v1_8_0m1600873529.13.0.min.js HTTP/1.1\u001b[0m\" 200 -\n",
      "127.0.0.1 - - [28/Sep/2020 14:08:41] \"\u001b[37mGET /_dash-component-suites/dash_renderer/dash_renderer.v1_8_0m1600873529.min.js HTTP/1.1\u001b[0m\" 200 -\n",
      "127.0.0.1 - - [28/Sep/2020 14:08:41] \"\u001b[37mGET /_dash-layout HTTP/1.1\u001b[0m\" 200 -\n",
      "127.0.0.1 - - [28/Sep/2020 14:08:41] \"\u001b[37mGET /_dash-dependencies HTTP/1.1\u001b[0m\" 200 -\n",
      "127.0.0.1 - - [28/Sep/2020 14:08:41] \"\u001b[37mPOST /_dash-update-component HTTP/1.1\u001b[0m\" 200 -\n",
      "127.0.0.1 - - [28/Sep/2020 14:08:41] \"\u001b[37mPOST /_dash-update-component HTTP/1.1\u001b[0m\" 200 -\n",
      "127.0.0.1 - - [28/Sep/2020 14:08:43] \"\u001b[37mPOST /_dash-update-component HTTP/1.1\u001b[0m\" 200 -\n",
      "127.0.0.1 - - [28/Sep/2020 14:08:44] \"\u001b[37mPOST /_dash-update-component HTTP/1.1\u001b[0m\" 200 -\n",
      "127.0.0.1 - - [28/Sep/2020 14:08:46] \"\u001b[37mPOST /_dash-update-component HTTP/1.1\u001b[0m\" 200 -\n",
      "127.0.0.1 - - [28/Sep/2020 14:08:46] \"\u001b[37mPOST /_dash-update-component HTTP/1.1\u001b[0m\" 200 -\n",
      "127.0.0.1 - - [28/Sep/2020 14:08:46] \"\u001b[37mPOST /_dash-update-component HTTP/1.1\u001b[0m\" 200 -\n",
      "127.0.0.1 - - [28/Sep/2020 14:08:47] \"\u001b[37mPOST /_dash-update-component HTTP/1.1\u001b[0m\" 200 -\n",
      "127.0.0.1 - - [28/Sep/2020 14:08:50] \"\u001b[37mPOST /_dash-update-component HTTP/1.1\u001b[0m\" 200 -\n",
      "127.0.0.1 - - [28/Sep/2020 14:08:50] \"\u001b[37mPOST /_dash-update-component HTTP/1.1\u001b[0m\" 200 -\n",
      "127.0.0.1 - - [28/Sep/2020 14:08:51] \"\u001b[37mPOST /_dash-update-component HTTP/1.1\u001b[0m\" 200 -\n",
      "127.0.0.1 - - [28/Sep/2020 14:08:51] \"\u001b[37mPOST /_dash-update-component HTTP/1.1\u001b[0m\" 200 -\n",
      "127.0.0.1 - - [28/Sep/2020 14:08:52] \"\u001b[37mPOST /_dash-update-component HTTP/1.1\u001b[0m\" 200 -\n",
      "127.0.0.1 - - [28/Sep/2020 14:08:53] \"\u001b[37mPOST /_dash-update-component HTTP/1.1\u001b[0m\" 200 -\n"
     ]
    }
   ],
   "source": [
    "if __name__ == \"__main__\":\n",
    "    app.run_server()"
   ]
  }
 ],
 "metadata": {
  "kernelspec": {
   "display_name": "Python 3",
   "language": "python",
   "name": "python3"
  },
  "language_info": {
   "codemirror_mode": {
    "name": "ipython",
    "version": 3
   },
   "file_extension": ".py",
   "mimetype": "text/x-python",
   "name": "python",
   "nbconvert_exporter": "python",
   "pygments_lexer": "ipython3",
   "version": "3.8.3"
  }
 },
 "nbformat": 4,
 "nbformat_minor": 4
}
